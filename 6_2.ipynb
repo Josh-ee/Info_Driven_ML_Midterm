{
 "cells": [
  {
   "cell_type": "markdown",
   "metadata": {},
   "source": [
    "### 2. Finite State Machine Generalization: \n",
    "#### (a)  Implement a program that automatically creates a set of if-then clauses from the training table of a binary dataset of your choice. Implement different strategies to minimize the number of if-then clauses. Document your strategies, the number of resulting conditional clauses, and the accuracy achieved."
   ]
  },
  {
   "cell_type": "code",
   "execution_count": 1,
   "metadata": {},
   "outputs": [],
   "source": [
    "from sklearn.model_selection import train_test_split\n",
    "from sklearn.preprocessing import OneHotEncoder\n",
    "from sklearn.tree import DecisionTreeClassifier # Decision Tree creates a set of if-then clauses\n",
    "from sklearn.metrics import accuracy_score"
   ]
  },
  {
   "cell_type": "code",
   "execution_count": 2,
   "metadata": {},
   "outputs": [],
   "source": [
    "encoder = OneHotEncoder()\n",
    "def fit_measure_test(tree, X, y, print_if_statements=True):\n",
    "    \n",
    "    X_train, X_test, y_train, y_test = train_test_split(X, y, test_size=0.2, random_state=0)\n",
    "    \n",
    "    # Fit the tree model\n",
    "    tree.fit(X_train, y_train)\n",
    "    \n",
    "    feature_names = encoder.get_feature_names_out()\n",
    "\n",
    "    if_statement_count = 0\n",
    "    # Loop through the tree to print and count if statements\n",
    "    for i in range(tree.tree_.node_count):\n",
    "        if tree.tree_.children_left[i] != -1: \n",
    "            feature = feature_names[tree.tree_.feature[i]]\n",
    "            threshold = tree.tree_.threshold[i]\n",
    "            if print_if_statements:\n",
    "                print(f\"Node {i}: if {feature} <= {threshold}\")\n",
    "            if_statement_count += 1\n",
    "\n",
    "    \n",
    "\n",
    "    # Predict and calculate accuracy\n",
    "    y_pred = tree.predict(X_test)\n",
    "    accuracy = accuracy_score(y_test, y_pred)\n",
    "    \n",
    "    if print_if_statements:\n",
    "        print(f\"\\nNumber of if statements in decision tree: {if_statement_count}\")\n",
    "        print(f\"\\n\\nAccuracy: {accuracy}\")\n",
    "\n",
    "    return if_statement_count, accuracy\n",
    "\n"
   ]
  },
  {
   "cell_type": "code",
   "execution_count": 3,
   "metadata": {},
   "outputs": [],
   "source": [
    "# Default Decision Tree\n",
    "default_tree = DecisionTreeClassifier(random_state=0) \n",
    "\n",
    "# I optimized my tree on the mushroom dataset by minimizing the number of if-then clauses until the accuracy was negatively impacted \n",
    "my_optimized_tree = DecisionTreeClassifier(max_depth=5, random_state=0)\n"
   ]
  },
  {
   "cell_type": "code",
   "execution_count": 4,
   "metadata": {},
   "outputs": [],
   "source": [
    "# !pip install ucimlrepo\n",
    "\n",
    "from ucimlrepo import fetch_ucirepo\n",
    "\n",
    "# Import binary mushroom dataset from https://archive.ics.uci.edu/dataset/73/mushroom \n",
    "mushroom = fetch_ucirepo(id=73)\n",
    "X = mushroom.data.features\n",
    "y = mushroom.data.targets\n",
    "# X in not in numbers, so we need to one hot encode\n",
    "X_encoded = encoder.fit_transform(X)"
   ]
  },
  {
   "cell_type": "code",
   "execution_count": 5,
   "metadata": {},
   "outputs": [
    {
     "name": "stdout",
     "output_type": "stream",
     "text": [
      "Node 0: if odor_n <= 0.5\n",
      "Node 1: if stalk-root_c <= 0.5\n",
      "Node 2: if stalk-surface-below-ring_y <= 0.5\n",
      "Node 3: if odor_l <= 0.5\n",
      "Node 4: if odor_a <= 0.5\n",
      "Node 9: if stalk-surface-below-ring_s <= 0.5\n",
      "Node 12: if spore-print-color_r <= 0.5\n",
      "Node 13: if stalk-surface-below-ring_y <= 0.5\n",
      "Node 14: if cap-surface_g <= 0.5\n",
      "Node 15: if cap-shape_c <= 0.5\n",
      "Node 16: if gill-size_b <= 0.5\n",
      "Node 17: if population_c <= 0.5\n",
      "Node 23: if ring-type_p <= 0.5\n",
      "\n",
      "Number of if statements in decision tree: 13\n",
      "\n",
      "\n",
      "Accuracy: 1.0\n"
     ]
    }
   ],
   "source": [
    "# Trying with default DecisionTreeClassifier\n",
    "default_size, default_acc = fit_measure_test(default_tree, X_encoded, y)\n"
   ]
  },
  {
   "cell_type": "code",
   "execution_count": 6,
   "metadata": {},
   "outputs": [
    {
     "name": "stdout",
     "output_type": "stream",
     "text": [
      "Node 0: if odor_n <= 0.5\n",
      "Node 1: if stalk-root_c <= 0.5\n",
      "Node 2: if stalk-surface-below-ring_y <= 0.5\n",
      "Node 3: if odor_l <= 0.5\n",
      "Node 4: if odor_a <= 0.5\n",
      "Node 9: if stalk-surface-below-ring_s <= 0.5\n",
      "Node 12: if spore-print-color_r <= 0.5\n",
      "Node 13: if stalk-surface-below-ring_y <= 0.5\n",
      "Node 14: if cap-surface_g <= 0.5\n",
      "Node 15: if cap-shape_c <= 0.5\n",
      "Node 19: if stalk-root_b <= 0.5\n",
      "\n",
      "Number of if statements in decision tree: 11\n",
      "\n",
      "\n",
      "Accuracy: 1.0\n"
     ]
    }
   ],
   "source": [
    "# Trying with my optimized DecisionTreeClassifier\n",
    "my_optimized_tree_size, my_optimized_tree_acc = fit_measure_test(my_optimized_tree, X_encoded, y)"
   ]
  },
  {
   "cell_type": "code",
   "execution_count": 7,
   "metadata": {},
   "outputs": [
    {
     "name": "stdout",
     "output_type": "stream",
     "text": [
      "Reduced the number of if-then clauses in tree from 13.000 to 11.000, Ratio: 1.182, while maintaining SAME accuracy: 1.000 = 1.000\n"
     ]
    }
   ],
   "source": [
    "print(f'Reduced the number of if-then clauses in tree from {default_size:.3f} to {my_optimized_tree_size:.3f}, Ratio: {default_size/my_optimized_tree_size:.3f}, while maintaining SAME accuracy: {default_acc:.3f} = {my_optimized_tree_acc:.3f}')"
   ]
  },
  {
   "cell_type": "markdown",
   "metadata": {},
   "source": [
    "#### (b) Use the algorithms developed in (a) on different datasets. Again, observe how your choices make a difference."
   ]
  },
  {
   "cell_type": "code",
   "execution_count": 8,
   "metadata": {},
   "outputs": [],
   "source": [
    "# Import binary raisin dataset from https://archive.ics.uci.edu/dataset/850/raisin\n",
    "raisin = fetch_ucirepo(id=850) \n",
    "  \n",
    "X = raisin.data.features \n",
    "y = raisin.data.targets "
   ]
  },
  {
   "cell_type": "code",
   "execution_count": 9,
   "metadata": {},
   "outputs": [
    {
     "name": "stdout",
     "output_type": "stream",
     "text": [
      "Node 0: if cap-shape_c <= 424.3491516113281\n",
      "Node 1: if cap-surface_f <= 1122.4955444335938\n",
      "Node 2: if cap-shape_k <= 0.8710394203662872\n",
      "Node 3: if cap-shape_k <= 0.8191300630569458\n",
      "Node 4: if cap-shape_x <= 0.7351054549217224\n",
      "Node 5: if cap-shape_x <= 0.7346012592315674\n",
      "Node 6: if cap-surface_f <= 1006.4865112304688\n",
      "Node 7: if cap-shape_x <= 0.6815016269683838\n",
      "Node 8: if cap-shape_x <= 0.6812853217124939\n",
      "Node 9: if cap-shape_s <= 50049.5\n",
      "Node 11: if cap-shape_s <= 57456.5\n",
      "Node 12: if cap-surface_f <= 916.6060180664062\n",
      "Node 13: if cap-shape_b <= 48691.0\n",
      "Node 16: if cap-shape_b <= 53680.0\n",
      "Node 18: if cap-shape_k <= 0.7868431210517883\n",
      "Node 23: if cap-shape_b <= 62397.0\n",
      "Node 24: if cap-surface_f <= 772.1489868164062\n",
      "Node 25: if cap-shape_b <= 40552.5\n",
      "Node 29: if cap-shape_c <= 344.65069580078125\n",
      "Node 32: if cap-shape_b <= 67346.0\n",
      "Node 33: if cap-shape_c <= 370.31199645996094\n",
      "Node 34: if cap-shape_s <= 65380.0\n",
      "Node 38: if cap-shape_x <= 0.6463422477245331\n",
      "Node 40: if cap-surface_f <= 1029.85400390625\n",
      "Node 41: if cap-surface_f <= 1026.946044921875\n",
      "Node 44: if cap-shape_x <= 0.7010412812232971\n",
      "Node 45: if cap-shape_x <= 0.6996380984783173\n",
      "Node 46: if cap-shape_b <= 75169.5\n",
      "Node 48: if cap-surface_f <= 1089.8715209960938\n",
      "Node 52: if cap-shape_f <= 235.9403305053711\n",
      "Node 53: if cap-shape_x <= 0.7140892148017883\n",
      "Node 58: if cap-shape_f <= 207.0576934814453\n",
      "Node 59: if cap-shape_f <= 205.91419982910156\n",
      "Node 63: if cap-shape_f <= 216.9763641357422\n",
      "Node 64: if cap-shape_x <= 0.7809818089008331\n",
      "Node 65: if cap-shape_k <= 0.8194061517715454\n",
      "Node 67: if cap-shape_x <= 0.6060127019882202\n",
      "Node 69: if cap-shape_x <= 0.6955466568470001\n",
      "Node 71: if cap-shape_k <= 0.8333347141742706\n",
      "Node 72: if cap-shape_x <= 0.7288067042827606\n",
      "Node 74: if cap-shape_f <= 185.6274185180664\n",
      "Node 77: if cap-shape_x <= 0.700539767742157\n",
      "Node 81: if cap-shape_s <= 68642.5\n",
      "Node 83: if cap-shape_s <= 76277.5\n",
      "Node 85: if cap-shape_s <= 79360.0\n",
      "Node 88: if cap-shape_x <= 0.752927839756012\n",
      "Node 91: if cap-shape_x <= 0.7291818559169769\n",
      "Node 92: if cap-shape_k <= 0.7634775638580322\n",
      "Node 93: if cap-shape_f <= 267.3236083984375\n",
      "Node 94: if cap-shape_b <= 79938.0\n",
      "Node 98: if cap-shape_x <= 0.6716567873954773\n",
      "Node 99: if cap-shape_b <= 81751.5\n",
      "Node 102: if cap-shape_s <= 89138.0\n",
      "Node 105: if cap-surface_f <= 1131.0899658203125\n",
      "Node 107: if cap-shape_c <= 378.50506591796875\n",
      "Node 108: if cap-shape_x <= 0.7483032047748566\n",
      "Node 111: if cap-surface_f <= 1173.7780151367188\n",
      "Node 112: if cap-surface_f <= 1163.9760131835938\n",
      "Node 116: if cap-shape_c <= 463.8451232910156\n",
      "Node 117: if cap-shape_b <= 87000.5\n",
      "Node 118: if cap-surface_f <= 1180.7925415039062\n",
      "Node 119: if cap-shape_b <= 83993.0\n",
      "Node 120: if cap-shape_k <= 0.8061690628528595\n",
      "Node 122: if cap-shape_x <= 0.7525957524776459\n",
      "Node 123: if cap-shape_k <= 0.8442318141460419\n",
      "Node 125: if cap-shape_s <= 77974.5\n",
      "Node 127: if cap-shape_c <= 449.85508728027344\n",
      "Node 133: if cap-shape_k <= 0.7769868075847626\n",
      "Node 134: if cap-shape_b <= 109465.0\n",
      "Node 135: if cap-shape_x <= 0.6314263343811035\n",
      "Node 137: if cap-shape_k <= 0.7194094955921173\n",
      "Node 138: if cap-shape_x <= 0.7162735164165497\n",
      "Node 143: if cap-shape_c <= 447.36480712890625\n",
      "Node 144: if cap-shape_s <= 90353.0\n",
      "Node 147: if cap-surface_f <= 1246.0379638671875\n",
      "Node 148: if cap-shape_b <= 96973.0\n",
      "Node 150: if cap-shape_c <= 461.5881805419922\n",
      "Node 154: if cap-surface_f <= 2022.8614501953125\n",
      "Node 155: if cap-surface_f <= 1196.0665283203125\n",
      "Node 156: if cap-surface_f <= 1188.0660400390625\n",
      "Node 159: if cap-surface_f <= 1346.6895141601562\n",
      "Node 160: if cap-surface_f <= 1336.3469848632812\n",
      "Node 161: if cap-shape_f <= 297.8704376220703\n",
      "Node 163: if cap-surface_f <= 1304.85498046875\n",
      "Node 168: if cap-shape_b <= 154561.5\n",
      "\n",
      "Number of if statements in decision tree: 85\n",
      "\n",
      "\n",
      "Accuracy: 0.8333333333333334\n"
     ]
    }
   ],
   "source": [
    "default_size, default_acc = fit_measure_test(default_tree, X, y)"
   ]
  },
  {
   "cell_type": "code",
   "execution_count": 10,
   "metadata": {},
   "outputs": [
    {
     "name": "stdout",
     "output_type": "stream",
     "text": [
      "Node 0: if cap-shape_c <= 424.3491516113281\n",
      "Node 1: if cap-surface_f <= 1122.4955444335938\n",
      "Node 2: if cap-shape_k <= 0.8710394203662872\n",
      "Node 3: if cap-shape_k <= 0.8191300630569458\n",
      "Node 4: if cap-shape_x <= 0.7351054549217224\n",
      "Node 7: if cap-shape_f <= 216.9763641357422\n",
      "Node 10: if cap-shape_k <= 0.8890786170959473\n",
      "Node 13: if cap-shape_x <= 0.7291818559169769\n",
      "Node 14: if cap-shape_k <= 0.7634775638580322\n",
      "Node 15: if cap-shape_f <= 267.3236083984375\n",
      "Node 18: if cap-shape_x <= 0.6716567873954773\n",
      "Node 21: if cap-surface_f <= 1131.0899658203125\n",
      "Node 23: if cap-shape_c <= 378.50506591796875\n",
      "Node 26: if cap-shape_c <= 463.8451232910156\n",
      "Node 27: if cap-shape_b <= 87000.5\n",
      "Node 28: if cap-surface_f <= 1180.7925415039062\n",
      "Node 29: if cap-shape_b <= 83993.0\n",
      "Node 33: if cap-shape_k <= 0.7769868075847626\n",
      "Node 34: if cap-shape_x <= 0.6314263343811035\n",
      "Node 37: if cap-shape_c <= 447.36480712890625\n",
      "Node 40: if cap-surface_f <= 2022.8614501953125\n",
      "Node 41: if cap-surface_f <= 1196.0665283203125\n",
      "Node 42: if cap-shape_b <= 82799.5\n",
      "Node 45: if cap-shape_c <= 508.43841552734375\n",
      "Node 48: if cap-shape_c <= 771.7889709472656\n",
      "\n",
      "Number of if statements in decision tree: 25\n",
      "\n",
      "\n",
      "Accuracy: 0.8833333333333333\n"
     ]
    }
   ],
   "source": [
    "my_optimized_tree_size, my_optimized_tree_acc = fit_measure_test(my_optimized_tree, X, y)"
   ]
  },
  {
   "cell_type": "code",
   "execution_count": 11,
   "metadata": {},
   "outputs": [
    {
     "name": "stdout",
     "output_type": "stream",
     "text": [
      "Reduced the number of if-then clauses in tree from 85.000 to 25.000, Ratio: 3.400, while maintaining roughly the SAME accuracy: 0.833 ≈ 0.883\n"
     ]
    }
   ],
   "source": [
    "print(f'Reduced the number of if-then clauses in tree from {default_size:.3f} to {my_optimized_tree_size:.3f}, Ratio: {default_size/my_optimized_tree_size:.3f}, while maintaining roughly the SAME accuracy: {default_acc:.3f} ≈ {my_optimized_tree_acc:.3f}')"
   ]
  },
  {
   "cell_type": "markdown",
   "metadata": {},
   "source": [
    "#### (c) Finally, use the programs developed in (a) on a completely random dataset, generated artificially. Vary your strategies but also the number of input columns as well as the number of instances. How many if-then clauses do you need?"
   ]
  },
  {
   "cell_type": "code",
   "execution_count": 12,
   "metadata": {},
   "outputs": [],
   "source": [
    "import numpy as np\n",
    "np.random.seed(1)\n",
    "\n",
    "def generate_equal_classes(n_full, num_classes):\n",
    "    if n_full % num_classes != 0:\n",
    "        raise ValueError(\"n_full is not evenly divisible by num_classes\")\n",
    "    \n",
    "    # Number of instances per class\n",
    "    n_per_class = n_full // num_classes\n",
    "    \n",
    "    # Generate and shuffle array\n",
    "    classes = np.concatenate([np.full(n_per_class, i) for i in range(num_classes)])\n",
    "    np.random.shuffle(classes)\n",
    "    \n",
    "    return classes.tolist()"
   ]
  },
  {
   "cell_type": "code",
   "execution_count": 13,
   "metadata": {},
   "outputs": [],
   "source": [
    "n_full = 256\n",
    "D = 8\n",
    "num_classes = 2 # Binary classification\n",
    "\n",
    "X = np.random.rand(n_full, D)\n",
    "y = generate_equal_classes(n_full, num_classes)"
   ]
  },
  {
   "cell_type": "code",
   "execution_count": 14,
   "metadata": {},
   "outputs": [
    {
     "name": "stdout",
     "output_type": "stream",
     "text": [
      "Node 0: if cap-shape_x <= 0.6881290972232819\n",
      "Node 1: if cap-shape_x <= 0.03581613302230835\n",
      "Node 2: if cap-shape_f <= 0.7104642689228058\n",
      "Node 4: if cap-surface_g <= 0.12292011454701424\n",
      "Node 7: if cap-shape_k <= 0.1572951152920723\n",
      "Node 8: if cap-shape_s <= 0.3836905211210251\n",
      "Node 9: if cap-shape_x <= 0.6371204853057861\n",
      "Node 12: if cap-surface_g <= 0.9645165801048279\n",
      "Node 13: if cap-shape_x <= 0.06159835867583752\n",
      "Node 15: if cap-shape_x <= 0.2226150631904602\n",
      "Node 16: if cap-shape_x <= 0.149416945874691\n",
      "Node 21: if cap-surface_g <= 0.010023790411651134\n",
      "Node 23: if cap-shape_x <= 0.49194470047950745\n",
      "Node 24: if cap-shape_x <= 0.2906492054462433\n",
      "Node 25: if cap-surface_g <= 0.9383832514286041\n",
      "Node 26: if cap-shape_x <= 0.1292453333735466\n",
      "Node 27: if cap-shape_x <= 0.11197086796164513\n",
      "Node 28: if cap-shape_b <= 0.4062817245721817\n",
      "Node 29: if cap-surface_f <= 0.8671679198741913\n",
      "Node 32: if cap-shape_k <= 0.9295432865619659\n",
      "Node 34: if cap-shape_k <= 0.9607635140419006\n",
      "Node 38: if cap-shape_c <= 0.01956567680463195\n",
      "Node 42: if cap-shape_c <= 0.7431066036224365\n",
      "Node 43: if cap-shape_x <= 0.4086471199989319\n",
      "Node 45: if cap-shape_k <= 0.8260196149349213\n",
      "Node 46: if cap-shape_b <= 0.6201326251029968\n",
      "Node 48: if cap-shape_x <= 0.47732825577259064\n",
      "Node 52: if cap-surface_g <= 0.5228247195482254\n",
      "Node 54: if cap-surface_g <= 0.9071745574474335\n",
      "Node 56: if cap-surface_g <= 0.9435307383537292\n",
      "Node 59: if cap-shape_s <= 0.36634403467178345\n",
      "Node 60: if cap-surface_f <= 0.6405257880687714\n",
      "Node 61: if cap-shape_c <= 0.3125677853822708\n",
      "Node 62: if cap-shape_f <= 0.620212972164154\n",
      "Node 66: if cap-shape_k <= 0.3116570711135864\n",
      "Node 70: if cap-surface_g <= 0.9467024803161621\n",
      "Node 71: if cap-shape_f <= 0.8739853501319885\n",
      "Node 72: if cap-shape_x <= 0.909618079662323\n",
      "Node 73: if cap-shape_c <= 0.06482357904314995\n",
      "Node 74: if cap-shape_b <= 0.4348682463169098\n",
      "Node 77: if cap-shape_b <= 0.29241590946912766\n",
      "Node 78: if cap-shape_b <= 0.12512168660759926\n",
      "Node 80: if cap-shape_f <= 0.7513017058372498\n",
      "Node 83: if cap-shape_k <= 0.04835479520261288\n",
      "Node 84: if cap-surface_g <= 0.39382535219192505\n",
      "Node 88: if cap-surface_g <= 0.16831564158201218\n",
      "Node 90: if cap-shape_f <= 0.5263269245624542\n",
      "Node 92: if cap-shape_k <= 0.6388736367225647\n",
      "Node 94: if cap-shape_x <= 0.9247246384620667\n",
      "Node 97: if cap-surface_f <= 0.5009812563657761\n",
      "Node 99: if cap-shape_b <= 0.37753941118717194\n",
      "\n",
      "Number of if statements in decision tree: 51\n",
      "\n",
      "\n",
      "Accuracy: 0.4230769230769231\n"
     ]
    }
   ],
   "source": [
    "default_size, default_acc = fit_measure_test(default_tree, X, y)"
   ]
  },
  {
   "cell_type": "code",
   "execution_count": 15,
   "metadata": {},
   "outputs": [
    {
     "name": "stdout",
     "output_type": "stream",
     "text": [
      "Node 0: if cap-shape_x <= 0.6881290972232819\n",
      "Node 1: if cap-shape_x <= 0.03581613302230835\n",
      "Node 2: if cap-shape_f <= 0.7104642689228058\n",
      "Node 4: if cap-surface_g <= 0.12292011454701424\n",
      "Node 7: if cap-shape_k <= 0.1572951152920723\n",
      "Node 8: if cap-shape_s <= 0.3836905211210251\n",
      "Node 9: if cap-shape_x <= 0.6371204853057861\n",
      "Node 12: if cap-surface_g <= 0.9645165801048279\n",
      "Node 15: if cap-surface_g <= 0.010023790411651134\n",
      "Node 17: if cap-shape_x <= 0.49194470047950745\n",
      "Node 20: if cap-surface_g <= 0.9467024803161621\n",
      "Node 21: if cap-shape_f <= 0.8739853501319885\n",
      "Node 22: if cap-shape_x <= 0.909618079662323\n",
      "Node 23: if cap-shape_c <= 0.06482357904314995\n",
      "Node 26: if cap-surface_g <= 0.16831564158201218\n",
      "Node 29: if cap-shape_b <= 0.3684689998626709\n",
      "Node 30: if cap-surface_f <= 0.25721919327042997\n",
      "\n",
      "Number of if statements in decision tree: 17\n",
      "\n",
      "\n",
      "Accuracy: 0.4423076923076923\n"
     ]
    }
   ],
   "source": [
    "my_optimized_tree_size, my_optimized_tree_acc = fit_measure_test(my_optimized_tree, X, y)"
   ]
  },
  {
   "cell_type": "code",
   "execution_count": 16,
   "metadata": {},
   "outputs": [
    {
     "name": "stdout",
     "output_type": "stream",
     "text": [
      "Reduced the number of if-then clauses in tree from 51.000 to 17.000, Ratio: 3.000, while maintaining roughly the SAME accuracy: 0.423 ≈ 0.442\n",
      " This is pretty much best guess\n"
     ]
    }
   ],
   "source": [
    "print(f'Reduced the number of if-then clauses in tree from {default_size:.3f} to {my_optimized_tree_size:.3f}, Ratio: {default_size/my_optimized_tree_size:.3f}, while maintaining roughly the SAME accuracy: {default_acc:.3f} ≈ {my_optimized_tree_acc:.3f}\\n This is pretty much best guess')"
   ]
  },
  {
   "cell_type": "markdown",
   "metadata": {},
   "source": [
    "#### Behavior on Random Data:\n",
    "- While my optimized model is smaller, its not exactly performing better!\n",
    "- Both models are essentially best guess\n",
    "- This means that both models are way larger than needed.\n",
    "\n",
    "To prove this lets make the **smallest tree possible**"
   ]
  },
  {
   "cell_type": "code",
   "execution_count": 17,
   "metadata": {},
   "outputs": [
    {
     "name": "stdout",
     "output_type": "stream",
     "text": [
      "Node 0: if cap-shape_x <= 0.6881290972232819\n",
      "\n",
      "Number of if statements in decision tree: 1\n",
      "\n",
      "\n",
      "Accuracy: 0.4230769230769231\n",
      "\n",
      "Notice how the accuracy doesn't meaningly change: Default Accuracy=0.423, Optimized Accuracy=0.442, Smallest Accuracy=0.423\n"
     ]
    }
   ],
   "source": [
    "\n",
    "smallest_possible_tree = DecisionTreeClassifier(max_depth=1, random_state=0)\n",
    "smallest_size, smallest_acc = fit_measure_test(smallest_possible_tree, X, y, print_if_statements=True)\n",
    "\n",
    "print(f\"\\nNotice how the accuracy doesn't meaningly change: Default Accuracy={default_acc:.3f}, Optimized Accuracy={my_optimized_tree_acc:.3f}, Smallest Accuracy={smallest_acc:.3f}\")\n"
   ]
  },
  {
   "cell_type": "markdown",
   "metadata": {},
   "source": [
    "#### Experimenting with different training table sizes"
   ]
  },
  {
   "cell_type": "code",
   "execution_count": 18,
   "metadata": {},
   "outputs": [],
   "source": [
    "# \n",
    "def run_experiment(D: int, n_full: int):\n",
    "    n_default_size = 0\n",
    "    n_default_acc = 0\n",
    "    n_my_optimized_tree_size = 0\n",
    "    n_my_optimized_tree_acc = 0\n",
    "    n_smallest_size = 0\n",
    "    n_smallest_acc = 0\n",
    "    \n",
    "    n_experiments = 50 # Run experiment 50 times \n",
    "    for i in range(n_experiments):\n",
    "        X = np.random.rand(n_full, D) \n",
    "        y = generate_equal_classes(n_full, num_classes=2) # Binary classification\n",
    "        default_size, default_acc = fit_measure_test(default_tree, X, y, print_if_statements=False)\n",
    "        n_default_size += default_size\n",
    "        n_default_acc += default_acc\n",
    "        \n",
    "        my_optimized_tree_size, my_optimized_tree_acc = fit_measure_test(my_optimized_tree, X, y, print_if_statements=False)\n",
    "        n_my_optimized_tree_size += my_optimized_tree_size\n",
    "        n_my_optimized_tree_acc += my_optimized_tree_acc\n",
    "\n",
    "        smallest_size, smallest_tree_acc = fit_measure_test(smallest_possible_tree, X, y, print_if_statements=False)\n",
    "        n_smallest_size += smallest_size\n",
    "        n_smallest_acc += smallest_tree_acc\n",
    "    \n",
    "    default_size = n_default_size/n_experiments\n",
    "    default_acc = n_default_acc/n_experiments\n",
    "\n",
    "    my_optimized_tree_size = n_my_optimized_tree_size/n_experiments\n",
    "    my_optimized_tree_acc = n_my_optimized_tree_acc/n_experiments\n",
    "\n",
    "    smallest_size = n_smallest_size/n_experiments\n",
    "    smallest_tree_acc = n_smallest_acc/n_experiments\n",
    "\n",
    "    print(f'Sizes: Avg Default Size={default_size}, Avg Optimized Size={my_optimized_tree_size}, Avg Smallest Size={smallest_size}')\n",
    "    print(f'Accuracy: Avg Default Accuracy={default_acc}, Avg Optimized Accuracy={my_optimized_tree_acc}, Avg Smallest Accuracy={smallest_tree_acc}\\n')\n",
    "\n",
    "\n",
    "    "
   ]
  },
  {
   "cell_type": "code",
   "execution_count": 19,
   "metadata": {},
   "outputs": [
    {
     "name": "stdout",
     "output_type": "stream",
     "text": [
      "Sizes: Avg Default Size=1.12, Avg Optimized Size=1.12, Avg Smallest Size=1.0\n",
      "Accuracy: Avg Default Accuracy=0.34, Avg Optimized Accuracy=0.34, Avg Smallest Accuracy=0.34\n",
      "\n",
      "Sizes: Avg Default Size=3.36, Avg Optimized Size=3.36, Avg Smallest Size=1.0\n",
      "Accuracy: Avg Default Accuracy=0.455, Avg Optimized Accuracy=0.455, Avg Smallest Accuracy=0.44\n",
      "\n",
      "Sizes: Avg Default Size=47.86, Avg Optimized Size=15.78, Avg Smallest Size=1.0\n",
      "Accuracy: Avg Default Accuracy=0.4992307692307694, Avg Optimized Accuracy=0.5011538461538462, Avg Smallest Accuracy=0.49192307692307674\n",
      "\n"
     ]
    }
   ],
   "source": [
    "run_experiment(D=2, n_full=4)\n",
    "run_experiment(D=4, n_full=16) \n",
    "run_experiment(D=8, n_full=256)"
   ]
  },
  {
   "cell_type": "markdown",
   "metadata": {},
   "source": [
    "#### Conclusion:\n",
    "- **6.2 (a) Developed an Optimized Decision Tree on the Mushroom Dataset**\n",
    "    - Kept decreasing the max depth until accuracy was negatively impacted\n",
    "    \n",
    "- **6.2 (b) Tested Optimized Decision Tree on the the more complex Raisin Dataset**\n",
    "    - The optimizations made on the Mushroom Dataset carried over to the Raisin Dataset allowing Better accuracy with less if-then statements\n",
    "\n",
    "- **6.2 (c) Tested Optimized Decision Tree on Random Data**\n",
    "    - Immediately noticed that **both** the optimized and default trees archived **best guess accuracy**\n",
    "    - Theorized that a model with only one decision would perform the same, so built the **smallest_possible_tree**\n",
    "    - **Tested**: *Default, Optimized, and Smallest Trees* on varying sizes of random data, all performed effectively the SAME, thus proving my theory \n",
    "    - Did observe that as Dimensions (D) grow, the **accuracy of all three** improved up to best guess (50%)\n"
   ]
  },
  {
   "cell_type": "code",
   "execution_count": null,
   "metadata": {},
   "outputs": [],
   "source": []
  }
 ],
 "metadata": {
  "kernelspec": {
   "display_name": "torch",
   "language": "python",
   "name": "python3"
  },
  "language_info": {
   "codemirror_mode": {
    "name": "ipython",
    "version": 3
   },
   "file_extension": ".py",
   "mimetype": "text/x-python",
   "name": "python",
   "nbconvert_exporter": "python",
   "pygments_lexer": "ipython3",
   "version": "3.10.13"
  }
 },
 "nbformat": 4,
 "nbformat_minor": 2
}
